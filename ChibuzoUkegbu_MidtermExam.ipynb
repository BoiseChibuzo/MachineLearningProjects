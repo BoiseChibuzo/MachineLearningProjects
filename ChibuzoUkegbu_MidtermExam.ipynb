{
 "cells": [
  {
   "cell_type": "markdown",
   "metadata": {},
   "source": [
    "### Chibuzo Ukegbu"
   ]
  },
  {
   "cell_type": "markdown",
   "metadata": {},
   "source": [
    "## CS534   Collaborator: None."
   ]
  },
  {
   "cell_type": "markdown",
   "metadata": {
    "id": "0nxrObr5C3su"
   },
   "source": [
    "# Question 1\n",
    "\n",
    "(20 points) Design and implement an iterative Power Method approach to\n",
    "determine the first principal component of the PCA transformation."
   ]
  },
  {
   "cell_type": "markdown",
   "metadata": {},
   "source": [
    "### Design\n",
    "\n",
    "Check for the attached paper"
   ]
  },
  {
   "cell_type": "code",
   "execution_count": 1,
   "metadata": {},
   "outputs": [],
   "source": [
    "def eigenvalue(A, v):\n",
    "    Av = A.dot(v)\n",
    "    return v.dot(Av)\n",
    "\n",
    "          \n",
    "def Power_iterate(A):\n",
    "    n, d = A.shape\n",
    "    v = np.ones(d) / np.sqrt(d)\n",
    "    e_v = eigenvalue(A, v)\n",
    "\n",
    "    while True:\n",
    "        Av = A.dot(v)\n",
    "        v_nju = Av / np.linalg.norm(Av)\n",
    "\n",
    "        ev_nju = eigenvalue(A, v_nju)\n",
    "        if np.abs(e_v - ev_nju) < 0.00001:\n",
    "            break\n",
    "\n",
    "        v = v_nju\n",
    "        e_v = ev_nju\n",
    "\n",
    "    return ev_nju, v_nju"
   ]
  },
  {
   "cell_type": "code",
   "execution_count": 2,
   "metadata": {},
   "outputs": [
    {
     "name": "stdout",
     "output_type": "stream",
     "text": [
      "Shape of X: (150, 4)\n",
      "Shape of transformed X: (150,)\n",
      "PC1 eigenvectors [ 0.52117705 -0.26907551  0.58042028  0.56487623]\n",
      "PC1 eigenval 2.938084875172267\n",
      "PC1= \n",
      " [-2.26456134 -2.0811596  -2.36432965 -2.29956006 -2.38965156 -2.07519228\n",
      " -2.4440147  -2.23278134 -2.33496885 -2.18446621 -2.16600263 -2.32609157\n",
      " -2.21866541 -2.63338376 -2.1981927  -2.26142329 -2.20715066 -2.19020545\n",
      " -1.89815812 -2.34303679 -1.9142025  -2.20674058 -2.7742096  -1.81864425\n",
      " -2.22712279 -1.9520305  -2.05107996 -2.16842183 -2.13947111 -2.26536086\n",
      " -2.14027064 -1.83146991 -2.61441959 -2.44554387 -2.11011032 -2.2078695\n",
      " -2.04495128 -2.52715737 -2.42989876 -2.16963143 -2.28634495 -1.85881077\n",
      " -2.55377939 -1.96430849 -2.13672251 -2.06995362 -2.38440308 -2.39448996\n",
      " -2.22915254 -2.20383063  1.10203529  0.73151251  1.24116077  0.40696635\n",
      "  1.07541327  0.38851259  0.74675737 -0.48786828  0.92791109  0.01112166\n",
      " -0.11097793  0.44067479  0.56158855  0.71950701 -0.03348399  0.87555708\n",
      "  0.35019384  0.15857676  1.22461581  0.16453426  0.73779941  0.47616426\n",
      "  1.23390317  0.63273554  0.70264248  0.87434748  1.25648631  1.35850264\n",
      "  0.6647338  -0.04057041  0.13033506  0.02298958  0.24130935  1.06090789\n",
      "  0.22389401  0.42938813  1.04888176  1.04412403  0.06952367  0.28308573\n",
      "  0.2787479   0.6245771   0.33623926 -0.36277806  0.2883342   0.09130729\n",
      "  0.22760349  0.57634265 -0.44812166  0.25655421  1.84482514  1.15767574\n",
      "  2.20543221  1.44013676  1.86789903  2.75210895  0.36655779  2.30256306\n",
      "  2.00647685  2.26034301  1.36437946  1.60255441  1.88402409  1.25977275\n",
      "  1.46751488  1.59027641  1.47150668  2.42708185  3.31070068  1.26326396\n",
      "  2.03798436  0.9778123   2.89777319  1.33309022  1.70103243  1.95462342\n",
      "  1.1750104   1.02096946  1.78829466  1.86381307  2.43602998  2.3057011\n",
      "  1.86265055  1.11406142  1.20223431  2.79902266  1.57657055  1.34641646\n",
      "  0.92482995  1.8522441   2.01499114  1.9019871   1.15767574  2.04081363\n",
      "  1.998456    1.87061718  1.56431633  1.52124968  1.37308556  0.96064882]\n"
     ]
    }
   ],
   "source": [
    "import numpy as np\n",
    "from sklearn.preprocessing import StandardScaler\n",
    "from sklearn import preprocessing\n",
    "\n",
    "#first PCA using power iterative method\n",
    "\n",
    "class PowerPCA1:\n",
    "    def _init_(self, n_components=1):\n",
    "        self.n_components = n_components\n",
    "        self.components = None\n",
    "        self.eigval = None\n",
    "        self.mean = None\n",
    "        \n",
    "    \n",
    "    \n",
    "\n",
    "    def fit(self, X):\n",
    "        # Mean centering\n",
    "        self.mean = np.mean(X, axis=0)\n",
    "        X = X - self.mean\n",
    "        \n",
    "        \n",
    "        #scaling\n",
    "        p = preprocessing.StandardScaler()\n",
    "        X = p.fit_transform(X)\n",
    "\n",
    "        # covariance, function needs samples as columns\n",
    "        cov = np.cov(X.T)\n",
    "\n",
    "        # eigenvalues, eigenvectors\n",
    "        #eigenvalues, eigenvectors = np.linalg.eig(cov)\n",
    "        #eigenval_true, eigenvect_true = np.linalg.eig(cov)\n",
    "        \n",
    "        #power method\n",
    "        eigval, eigvec = Power_iterate(cov)\n",
    "\n",
    "        eigenvalues = eigval\n",
    "        eigenvectors = eigvec\n",
    "        #print('PC1', eigenvectors)\n",
    "        #print('eigvals', eigenvalues)\n",
    "        #print('---------------------')\n",
    "        #print('eigenval Scikit', eigenval_true[0])\n",
    "        #print('PC1 Scikit',  eigenvect_true[:,0])\n",
    "\n",
    "        # store first n eigenvectors\n",
    "        self.components = eigenvectors\n",
    "        self.eigval = eigenvalues\n",
    "        #eigenvectors[0 : self.n_components]\n",
    "\n",
    "    def transform(self, X):\n",
    "        # project data\n",
    "        #X = X - self.mean\n",
    "        \n",
    "        #scale\n",
    "        #scaling\n",
    "        p = preprocessing.StandardScaler()\n",
    "        X = p.fit_transform(X)\n",
    "        \n",
    "        return np.dot(X, self.components.T)\n",
    "\n",
    "\n",
    "# Testing\n",
    "if __name__ == \"__main__\":\n",
    "    # Imports\n",
    "    import matplotlib.pyplot as plt\n",
    "    from sklearn import datasets\n",
    "\n",
    "    # data = datasets.load_digits()\n",
    "    data = datasets.load_iris()\n",
    "    X = data.data\n",
    "    y = data.target\n",
    "\n",
    "    # Project the data onto the 2 primary principal components\n",
    "    pca = PowerPCA1()\n",
    "    pca.fit(X)\n",
    "    X_projected = pca.transform(X)\n",
    "\n",
    "    print(\"Shape of X:\", X.shape)\n",
    "    print(\"Shape of transformed X:\", X_projected.shape)\n",
    "    \n",
    "    print('PC1 eigenvectors', pca.components)\n",
    "    print('PC1 eigenval', pca.eigval)\n",
    "        #print('eigvals', eigenvalues)\n",
    "\n",
    "    x1 = X_projected\n",
    "    print('PC1= \\n', x1)"
   ]
  },
  {
   "cell_type": "markdown",
   "metadata": {
    "id": "Eh7wi_GODN6c"
   },
   "source": [
    "# Question 2\n",
    "\n",
    "(20 points) Design and implement an iterative Power Method\n",
    "approach to determine the second principal component of the PCA\n",
    "transformation."
   ]
  },
  {
   "cell_type": "markdown",
   "metadata": {},
   "source": [
    "## Design \n",
    "1. Compute the p-dimensional mean vector for each feature in the data.\n",
    "2. Center each data using the computed mean in 1\n",
    "3. Preprocess the data\n",
    "3. Compute the covariance matrix. \n",
    "4. use the power method on the computed covariance to get the optimal eigenvalue and eigenvector\n",
    "\n",
    "Now \n",
    "\n",
    "5. Project our data orthogonally to the result obtained in 4, i.e set cov2 = cov1 - x1x2 where x1 and x2 are \n",
    "$x1= eigval/(eigvec.T.dot(eigvec))$ and $x2=eigvec.dot(eigvec.T)$. eigval and eigvec are the results obtained  in 4.\n",
    "\n",
    "6. use the power method on the result obtained from 5 to get the optimal eigenvalue and eigenvector\n",
    "7. Compute the PC2 by taking the dot product of data and the computed eigenvector."
   ]
  },
  {
   "cell_type": "code",
   "execution_count": 3,
   "metadata": {},
   "outputs": [
    {
     "name": "stdout",
     "output_type": "stream",
     "text": [
      "Shape of X: (150, 4)\n",
      "Shape of transformed X: (150,)\n",
      "PC2 eigenvectors [0.37682387 0.92358371 0.02396627 0.06650206]\n",
      "PC2 eigenval 0.9201654470240775\n",
      "PC2 \n",
      " [ 0.48213766 -0.67221014 -0.33967825 -0.59521882  0.6490847   1.4911326\n",
      "  0.04999076  0.22523491 -1.11311086 -0.46699579  1.04568865  0.1352792\n",
      " -0.7266229  -0.95900418  1.86205584  2.68841499  1.48568387  0.49089147\n",
      "  1.40674964  1.1300716   0.41059506  0.92621943  0.46100019  0.08727367\n",
      "  0.13936575 -0.62382683  0.24410472  0.52915879  0.31519063 -0.33559171\n",
      " -0.50253874  0.42537832  1.79604087  2.15301532 -0.45824198 -0.20406359\n",
      "  0.66341127  0.59467194 -0.90186706  0.27089386  0.44387035 -2.33569618\n",
      " -0.47665509  0.47421832  1.14427414 -0.70911528  1.12267997 -0.38397502\n",
      "  1.0000297   0.01126675  0.86183741  0.59391318  0.61505065 -1.75478971\n",
      " -0.20948962 -0.593631    0.77233839 -1.85193411  0.03126768 -1.03395099\n",
      " -2.65397473 -0.06368006 -1.76536239 -0.18691106 -0.43894359  0.50816804\n",
      " -0.19657036 -0.79228819 -1.62346454 -1.3027886   0.39596642 -0.41780612\n",
      " -0.93453892 -0.41702466 -0.06413675  0.24990312 -0.07854223  0.32999658\n",
      " -0.22654055 -1.05872621 -1.56241571 -1.5725317  -0.77750493 -0.63482562\n",
      " -0.28788825  0.84524317  0.5210084  -1.38406941 -0.2195267  -1.32957774\n",
      " -1.12027685  0.02433275 -0.98874873 -2.01888114 -0.85598247 -0.18125939\n",
      " -0.38511156 -0.15545464 -1.54334296 -0.59907972  0.86883105 -0.69988208\n",
      "  0.55990724 -0.04831829  0.2933452   0.79773724 -1.56170527  0.41780645\n",
      " -0.71338207  1.91894169  0.69151427 -0.42320404  0.41748168 -1.16336136\n",
      " -0.44350704  0.67484112  0.25424341  2.55436004  0.01456643 -1.70797152\n",
      "  0.90858458 -0.57256454  0.4107926  -0.48306552  1.01236504  1.0058789\n",
      " -0.31748067  0.06343453 -0.18900389  0.56043495  0.25688886  2.62408377\n",
      " -0.18025008 -0.29399661 -0.81246937  0.85409291  1.06723449  0.42119044\n",
      "  0.01641341  0.67438443  0.61205233  0.68780551 -0.69988208  0.86564999\n",
      "  1.04738029  0.38524381 -0.89816149  0.26766449  1.01009737 -0.025159  ]\n"
     ]
    }
   ],
   "source": [
    "class SecondPCA:\n",
    "    def _init_(self, n_components=1):\n",
    "        self.n_components = n_components\n",
    "        self.components = None\n",
    "        self.eigvals = None\n",
    "        self.mean = None\n",
    "        \n",
    "    \n",
    "    \n",
    "\n",
    "    def fit(self, X):\n",
    "        # Mean centering\n",
    "        self.mean = np.mean(X, axis=0)\n",
    "        X = X - self.mean\n",
    "        \n",
    "        \n",
    "        #scaling\n",
    "        p = preprocessing.StandardScaler()\n",
    "        X = p.fit_transform(X)\n",
    "\n",
    "        # covariance, function needs samples as columns\n",
    "        cov = np.cov(X.T)\n",
    "\n",
    "        # eigenvalues, eigenvectors\n",
    "        #eigenvalues, eigenvectors = np.linalg.eig(cov)\n",
    "        #eigenval_true, eigenvect_true = np.linalg.eig(cov)\n",
    "        \n",
    "        #power method\n",
    "        eigval, eigvec = Power_iterate(cov)\n",
    "       \n",
    "        eigvec =eigvec.reshape(-1,1)\n",
    "    \n",
    "        x1 = eigval/(eigvec.T.dot(eigvec))\n",
    "        x2 = eigvec.dot(eigvec.T)\n",
    "    \n",
    "        cov2 = cov - x1*x2  \n",
    "    \n",
    "        eigval2, eigvec2 = Power_iterate(cov2)\n",
    "        #eigenpair2 = power_iter(B)\n",
    "\n",
    "        eigenvalues = eigval2\n",
    "        eigenvectors = eigvec2\n",
    "        #print('PC2', eigenvectors)\n",
    "        #print('eigval', eigenvalues)\n",
    "        #print('---------------------')\n",
    "        #print('true-eigenvalue Scikit', eigenval_true[1])\n",
    "        #print('PC2 Scikit',  eigenvect_true[:,1])\n",
    "\n",
    "        # store first n eigenvectors\n",
    "        self.components = eigenvectors\n",
    "        self.eigvals = eigenvalues\n",
    "        #eigenvectors[0 : self.n_components]\n",
    "\n",
    "    def transform(self, X):\n",
    "        # project data\n",
    "        #X = X - self.mean\n",
    "        \n",
    "        #scale\n",
    "        #scaling\n",
    "        p = preprocessing.StandardScaler()\n",
    "        X = p.fit_transform(X)\n",
    "        \n",
    "        return np.dot(X, self.components.T)\n",
    "\n",
    "\n",
    "# Testing\n",
    "if __name__ == \"__main__\":\n",
    "    # Imports\n",
    "    import matplotlib.pyplot as plt\n",
    "    from sklearn import datasets\n",
    "\n",
    "    # data = datasets.load_digits()\n",
    "    data = datasets.load_iris()\n",
    "    X = data.data\n",
    "    y = data.target\n",
    "\n",
    "    # Project the data onto the 2 primary principal components\n",
    "    pca = SecondPCA()\n",
    "    pca.fit(X)\n",
    "    X_projected = pca.transform(X)\n",
    "\n",
    "    print(\"Shape of X:\", X.shape)\n",
    "    print(\"Shape of transformed X:\", X_projected.shape)\n",
    "    x2 = X_projected\n",
    "    \n",
    "    print('PC2 eigenvectors', pca.components)\n",
    "    print('PC2 eigenval', pca.eigvals)\n",
    "    print('PC2 \\n', X_projected)"
   ]
  },
  {
   "cell_type": "markdown",
   "metadata": {
    "id": "agqZlERPDUyE"
   },
   "source": [
    "# Problem Number 3\n",
    "\n",
    " (10 points) Describe the benefit of a gradient approach w.r.t.\n",
    "the SVD approach for the PCA transformation"
   ]
  },
  {
   "cell_type": "markdown",
   "metadata": {},
   "source": [
    "## Singular Value Decomposition\n",
    "Gradient approach allows one to compute only the components that are needed,while SVD computes everything.Also,the SVD approach to the PCA transformation is extremely expensive because one must compute the matrices $A^TA$ and $AA^T$ and the eigenvalues and eigenvectors of these matrices to find the SVD of $A$ (assuming $A$ is the data matrix).\n",
    "\n",
    "## Comparison to Gradient Approach\n",
    "\n",
    "The benefit of the gradient approach with regard to PCA is that one does not need to calculate all of the singular vectors that make up the data matrix. Instead, gradient descent can be used to calculate one singular vector at a time. Not minding that the gradient approach can be less precise than the SVD if the gradient descent does not find the exact global maximum, the gradient approach is more efficient than the SVD approach since it only calculates the singular vectors that are needed. If the number of singular vectors that are desired are much smaller than the number of columns in the data, the gradient approach is likely to be more efficient than the SVD approach if implemented efficiently."
   ]
  },
  {
   "cell_type": "markdown",
   "metadata": {
    "id": "q-_Ep_p4Dw2x"
   },
   "source": [
    "# Question 4\n",
    "\n",
    "(20 points) Using a binary classifier (logistic regression or\n",
    "SVM) please implement in python both of the 2 different approaches\n",
    "(one vs. one, one vs. all) to handle the problem of more\n",
    "than two different classes (use the iris dataset). For\n",
    "reference use the following link\n",
    "https://en.wikipedia.org/wiki/Multiclass_classification\n"
   ]
  },
  {
   "cell_type": "code",
   "execution_count": 4,
   "metadata": {},
   "outputs": [],
   "source": [
    "import pandas as pd\n",
    "import numpy as np\n",
    "from sklearn.preprocessing import StandardScaler\n",
    "from sklearn.linear_model import LogisticRegression\n",
    "from statistics import mode \n",
    "from sklearn.model_selection import train_test_split\n",
    "from sklearn.model_selection import GridSearchCV\n",
    "from sklearn.metrics import classification_report\n",
    "\n",
    "iris = pd.read_csv('https://bitbucket.org/laumiulun/cs534/raw/c42a3c7bd298df0f5b2d779ea4b88a269de7768b/iris.csv')\n",
    "num_features = 4 #Specify the number of features.\n",
    "X = iris.values[:,0:num_features] #Splitting the data set into independent features (X) and dependent feature (y).\n",
    "y = iris.values[:,num_features]\n",
    "#We check the name of all classes.\n",
    "pd.unique(iris['species'])\n",
    "#split the data set into training set (70%) and testing set (30%)\n",
    "X_train, X_test, y_train, y_test = train_test_split(X, y, test_size=0.3, random_state=20220407)\n",
    "#Lets normalize our data set so that mean = 0 and standard deviation = 1.\n",
    "scaler = StandardScaler()\n",
    "X_train = scaler.fit_transform(X_train)\n",
    "X_test = scaler.transform(X_test)"
   ]
  },
  {
   "cell_type": "markdown",
   "metadata": {},
   "source": [
    "## One vs One precedure\n",
    "We will first perform the multiclass classification using the one vs one procedure using the logistic regression."
   ]
  },
  {
   "cell_type": "code",
   "execution_count": 5,
   "metadata": {},
   "outputs": [],
   "source": [
    "# extract setosa and versicolor only from the training set \n",
    "X_train_1 = X_train[((y_train == 'setosa') | (y_train == 'versicolor'))]\n",
    "y_train_1 = y_train[((y_train == 'setosa') | (y_train == 'versicolor'))]\n",
    "# fit the logistic regression model\n",
    "lm1 = LogisticRegression(random_state=20200403, class_weight='balanced',penalty='l2')\n",
    "lm1.fit(X_train_1, y_train_1)\n",
    "# make predictions for the entire test set\n",
    "y_pred_1 = lm1.predict(X_test)"
   ]
  },
  {
   "cell_type": "code",
   "execution_count": 6,
   "metadata": {},
   "outputs": [],
   "source": [
    "# extract setosa and virginica only from the training set \n",
    "X_train_2 = X_train[((y_train == 'setosa') | (y_train == 'virginica'))]\n",
    "y_train_2 = y_train[((y_train == 'setosa') | (y_train == 'virginica'))]\n",
    "# fit the logistic regression model\n",
    "lm2 = LogisticRegression(random_state=20200403, class_weight='balanced',penalty='l2')\n",
    "lm2.fit(X_train_2, y_train_2)\n",
    "# make predictions for the entire test set\n",
    "y_pred_2 = lm2.predict(X_test)"
   ]
  },
  {
   "cell_type": "code",
   "execution_count": 7,
   "metadata": {},
   "outputs": [],
   "source": [
    "# extract versicolor and verginica only from the training set \n",
    "X_train_3 = X_train[((y_train == 'versicolor') | (y_train == 'virginica'))]\n",
    "y_train_3 = y_train[((y_train == 'versicolor') | (y_train == 'virginica'))]\n",
    "#fit the logistic regression model\n",
    "lm3 = LogisticRegression(random_state=20200403, class_weight='balanced',penalty='l2')\n",
    "lm3.fit(X_train_3, y_train_3)\n",
    "# make predictions for the entire test set\n",
    "y_pred_3 = lm3.predict(X_test)"
   ]
  },
  {
   "cell_type": "code",
   "execution_count": 8,
   "metadata": {},
   "outputs": [
    {
     "name": "stdout",
     "output_type": "stream",
     "text": [
      "versicolor\n",
      "virginica\n",
      "versicolor\n",
      "setosa\n",
      "versicolor\n",
      "setosa\n",
      "virginica\n",
      "setosa\n",
      "setosa\n",
      "setosa\n",
      "virginica\n",
      "setosa\n",
      "setosa\n",
      "setosa\n",
      "virginica\n",
      "versicolor\n",
      "setosa\n",
      "versicolor\n",
      "versicolor\n",
      "setosa\n",
      "versicolor\n",
      "versicolor\n",
      "setosa\n",
      "versicolor\n",
      "setosa\n",
      "versicolor\n",
      "versicolor\n",
      "setosa\n",
      "versicolor\n",
      "setosa\n",
      "versicolor\n",
      "versicolor\n",
      "virginica\n",
      "versicolor\n",
      "setosa\n",
      "virginica\n",
      "virginica\n",
      "setosa\n",
      "versicolor\n",
      "virginica\n",
      "setosa\n",
      "setosa\n",
      "versicolor\n",
      "versicolor\n",
      "versicolor\n"
     ]
    }
   ],
   "source": [
    "#Combine the predictions and each observation is classified to the type with the most vote.\n",
    "y_pred_combined = np.stack((y_pred_1, y_pred_2, y_pred_3), axis=-1)\n",
    "y_pred = np.empty(len(y_test), dtype=object)\n",
    "for index in range(len(y_test)):\n",
    "    y_pred[index] = mode(y_pred_combined[index])\n",
    "    print (y_pred[index])"
   ]
  },
  {
   "cell_type": "code",
   "execution_count": 9,
   "metadata": {},
   "outputs": [
    {
     "data": {
      "text/plain": [
       "0.9555555555555556"
      ]
     },
     "execution_count": 9,
     "metadata": {},
     "output_type": "execute_result"
    }
   ],
   "source": [
    "#calculate the classification accuracy.\n",
    "np.sum(y_pred == y_test)/len(y_test) "
   ]
  },
  {
   "cell_type": "markdown",
   "metadata": {},
   "source": [
    "## One vs Other precedure"
   ]
  },
  {
   "cell_type": "code",
   "execution_count": 10,
   "metadata": {},
   "outputs": [],
   "source": [
    "#Setosa vs. Versicolor & Virginica\n",
    "# set the training label as TRUE if setosa and FALSE else\n",
    "y_train_setosa = (y_train == 'setosa')\n",
    "# fit the logistic regression model\n",
    "lm_setosa = LogisticRegression(random_state=20200403, class_weight='balanced', penalty='l2')\n",
    "lm_setosa.fit(X_train, y_train_setosa)\n",
    "# make predictions for the entire test set and save the estimated conditional probability that\n",
    "# the corresponding observation is setosa\n",
    "y_pred_setosa = lm_setosa.predict_proba(X_test)[:,1]"
   ]
  },
  {
   "cell_type": "code",
   "execution_count": 11,
   "metadata": {},
   "outputs": [],
   "source": [
    "#Versicolor vs Setosa & Virginica\n",
    "y_train_versicolor = (y_train == 'versicolor')\n",
    "# fit the logistic regression model\n",
    "lm_versicolor = LogisticRegression(random_state=20200403, class_weight='balanced', penalty='l2')\n",
    "lm_versicolor.fit(X_train, y_train_versicolor)\n",
    "# make predictions for the entire test set and save the estimated conditional probability that\n",
    "# the corresponding observation is versicolor\n",
    "y_pred_versicolor = lm_versicolor.predict_proba(X_test)[:,1]"
   ]
  },
  {
   "cell_type": "code",
   "execution_count": 12,
   "metadata": {},
   "outputs": [],
   "source": [
    "# Virginica vs Setosa & Versicolor\n",
    "y_train_virginica = (y_train == 'virginica')\n",
    "# fit the logistic regression model\n",
    "lm_virginica = LogisticRegression(random_state=20220407, class_weight='balanced', penalty='l2')\n",
    "lm_virginica.fit(X_train, y_train_virginica)\n",
    "# make predictions for the entire test set and save the estimated conditional probability that\n",
    "# the corresponding observation is virginica\n",
    "y_pred_virginica = lm_virginica.predict_proba(X_test)[:,1]"
   ]
  },
  {
   "cell_type": "code",
   "execution_count": 13,
   "metadata": {},
   "outputs": [
    {
     "data": {
      "text/html": [
       "<div>\n",
       "<style scoped>\n",
       "    .dataframe tbody tr th:only-of-type {\n",
       "        vertical-align: middle;\n",
       "    }\n",
       "\n",
       "    .dataframe tbody tr th {\n",
       "        vertical-align: top;\n",
       "    }\n",
       "\n",
       "    .dataframe thead th {\n",
       "        text-align: right;\n",
       "    }\n",
       "</style>\n",
       "<table border=\"1\" class=\"dataframe\">\n",
       "  <thead>\n",
       "    <tr style=\"text-align: right;\">\n",
       "      <th></th>\n",
       "      <th>setosa</th>\n",
       "      <th>versicolor</th>\n",
       "      <th>virginica</th>\n",
       "    </tr>\n",
       "  </thead>\n",
       "  <tbody>\n",
       "    <tr>\n",
       "      <th>0</th>\n",
       "      <td>0.057128</td>\n",
       "      <td>0.597762</td>\n",
       "      <td>0.124934</td>\n",
       "    </tr>\n",
       "    <tr>\n",
       "      <th>1</th>\n",
       "      <td>0.000030</td>\n",
       "      <td>0.815603</td>\n",
       "      <td>0.997979</td>\n",
       "    </tr>\n",
       "    <tr>\n",
       "      <th>2</th>\n",
       "      <td>0.069706</td>\n",
       "      <td>0.743636</td>\n",
       "      <td>0.050976</td>\n",
       "    </tr>\n",
       "    <tr>\n",
       "      <th>3</th>\n",
       "      <td>0.956503</td>\n",
       "      <td>0.465152</td>\n",
       "      <td>0.000052</td>\n",
       "    </tr>\n",
       "    <tr>\n",
       "      <th>4</th>\n",
       "      <td>0.006395</td>\n",
       "      <td>0.707979</td>\n",
       "      <td>0.386228</td>\n",
       "    </tr>\n",
       "    <tr>\n",
       "      <th>5</th>\n",
       "      <td>0.982208</td>\n",
       "      <td>0.257080</td>\n",
       "      <td>0.000021</td>\n",
       "    </tr>\n",
       "  </tbody>\n",
       "</table>\n",
       "</div>"
      ],
      "text/plain": [
       "     setosa  versicolor  virginica\n",
       "0  0.057128    0.597762   0.124934\n",
       "1  0.000030    0.815603   0.997979\n",
       "2  0.069706    0.743636   0.050976\n",
       "3  0.956503    0.465152   0.000052\n",
       "4  0.006395    0.707979   0.386228\n",
       "5  0.982208    0.257080   0.000021"
      ]
     },
     "execution_count": 13,
     "metadata": {},
     "output_type": "execute_result"
    }
   ],
   "source": [
    "#Combine the predictions and each observation is classified to the type with the highest estimated conditional probability.\n",
    "y_pred_comb = {'setosa': y_pred_setosa, 'versicolor': y_pred_versicolor, 'virginica': y_pred_virginica}\n",
    "y_pred_comb = pd.DataFrame(data=y_pred_comb)\n",
    "y_pred_comb.head(6)"
   ]
  },
  {
   "cell_type": "code",
   "execution_count": 14,
   "metadata": {},
   "outputs": [
    {
     "data": {
      "text/plain": [
       "0    versicolor\n",
       "1     virginica\n",
       "2    versicolor\n",
       "3        setosa\n",
       "4    versicolor\n",
       "5        setosa\n",
       "dtype: object"
      ]
     },
     "execution_count": 14,
     "metadata": {},
     "output_type": "execute_result"
    }
   ],
   "source": [
    "y_pred = y_pred_comb.idxmax(axis=1)\n",
    "y_pred.head(6)"
   ]
  },
  {
   "cell_type": "code",
   "execution_count": 15,
   "metadata": {},
   "outputs": [
    {
     "data": {
      "text/plain": [
       "0.9777777777777777"
      ]
     },
     "execution_count": 15,
     "metadata": {},
     "output_type": "execute_result"
    }
   ],
   "source": [
    "#We calculate the classification accuracy.\n",
    "np.sum(y_pred == y_test)/len(y_test)"
   ]
  },
  {
   "cell_type": "markdown",
   "metadata": {
    "id": "fZe4oSzXFfAh"
   },
   "source": [
    "# Question 5\n",
    "\n",
    "(20 points) Extensively describe the overfitting and\n",
    "underfitting problem. Use execution examples with a decision\n",
    "tree and SVM (with or without kernel). Use the scikit\n",
    "implementations. Show underfitting, good behavior, and overfitting examples."
   ]
  },
  {
   "cell_type": "markdown",
   "metadata": {},
   "source": [
    "Underfitting refers to a model that can neither model the training data nor generalize to new data[1].\n",
    "Underfitting takes place when a model has high bias (or error) when evaluated on both the training and testing dataset. An underfit model likely will have low variance in error between the training and testing set,tantamount to poor performance in both the training and testing dataset.\n",
    "\n",
    "That is to say that underfitting takes place when a model has not found the generalizable patterns in the dataset used for predictions. This implies that the model needs to be trained to a greater extent by increasing the number of epochs, increasing the complexity of the model, or giving the model access to more data.In training the model for more epochs, the model will have a higher probability of arriving at a local minimum of loss in the training data and finding generalizable patterns. \n",
    "\n",
    "In increasing the complexity of the model, more complex patterns could be found in the training dataset. By giving the model more data, it may be able to train on additional samples or features such that the model may find new patterns that could be used for prediction.\n",
    "\n",
    "Overfitting:\n",
    "Overfitting,according to Brownlee[1] happens when a model learns the detail and noise in the training dataset to the expanse that it negatively affects the performance of the model on a test dataset. This basically means that the noise or random fluctuations in the training data is picked up and learned as concepts by the model. The problem is that these concepts do not apply to new dataset or test data and adversely impact the model's ability to generalize.\n",
    "\n",
    "Overfitting is more evident with nonparametric and nonlinear models that have more flexibility when learning a target function. As such, many nonparametric machine learning algorithms also include parameters or techniques to limit and constrain how much detail the model learns.\n",
    "\n",
    "For example, decision trees are a nonparametric machine learning algorithm that is very flexible and is subject to overfitting training data. This problem can be addressed by pruning a tree after it has learned in order to remove some of the detail it has picked up."
   ]
  },
  {
   "cell_type": "markdown",
   "metadata": {},
   "source": [
    "## Execution examples of overfitting and underfitting with a Decision Tree classifier"
   ]
  },
  {
   "cell_type": "code",
   "execution_count": 16,
   "metadata": {},
   "outputs": [
    {
     "name": "stdout",
     "output_type": "stream",
     "text": [
      "\n",
      "\n",
      "====================================================\n",
      "The decision tree was trained on the IRIS dataset.\n",
      "Various parameters were changed to showcase underfitting and overfitting\n",
      "\n",
      "\n",
      "====================================================\n",
      "The decision tree was trained on the WINE dataset.\n",
      "Various parameters were changed to showcase underfitting and overfitting\n",
      "\n",
      "\n",
      "====================================================\n",
      "\n",
      "When the decision tree model was trained with the following params:\n",
      "  Testing data percent of total: 0.1\n",
      "  Number of data features used: 1\n",
      "  Maximum depth of decision tree: 50\n",
      "The evaluation went as follows:\n",
      "  Training data accuracy: 0.90625\n",
      "  Testing data accuracy: 0.3888888888888889\n",
      "\n",
      "\n",
      "====================================================\n",
      "\n",
      "When the decision tree model was trained with the following params:\n",
      "  Testing data percent of total: 0.5\n",
      "  Number of data features used: 1\n",
      "  Maximum depth of decision tree: 50\n",
      "The evaluation went as follows:\n",
      "  Training data accuracy: 0.9550561797752809\n",
      "  Testing data accuracy: 0.5730337078651685\n",
      "\n",
      "\n",
      "====================================================\n",
      "\n",
      "When the decision tree model was trained with the following params:\n",
      "  Testing data percent of total: 0.9\n",
      "  Number of data features used: 1\n",
      "  Maximum depth of decision tree: 50\n",
      "The evaluation went as follows:\n",
      "  Training data accuracy: 1.0\n",
      "  Testing data accuracy: 0.6149068322981367\n"
     ]
    }
   ],
   "source": [
    "import numpy as np\n",
    "from sklearn.tree import DecisionTreeClassifier\n",
    "from sklearn import datasets # used for the iris data as an example\n",
    "from sklearn.model_selection import train_test_split # used to test models\n",
    "\n",
    "def train_dec_tree(X, y, test_size=0.5, num_features=3, max_depth=None): \n",
    "  # Train\n",
    "    X_train, X_test, y_train, y_test = train_test_split(X[:,:num_features], y, \n",
    "                    test_size=test_size, random_state=42)\n",
    "    model = DecisionTreeClassifier(random_state=42, max_depth=max_depth)\n",
    "    model.fit(X_train, y_train)\n",
    "\n",
    "      # Evaluate\n",
    "    y_pred_train = model.predict(X_train)\n",
    "    y_pred = model.predict(X_test)\n",
    "    return (np.mean(y_pred_train == y_train), np.mean(y_pred == y_test))\n",
    "\n",
    "for dataset in [(\"IRIS\", datasets.load_iris(return_X_y=True)), \n",
    "                (\"WINE\", datasets.load_wine(return_X_y=True))]:\n",
    "    name, data = dataset\n",
    "    print(\"\\n\\n====================================================\")\n",
    "    print(\"The decision tree was trained on the {} dataset.\".format(name))\n",
    "    print(\"Various parameters were changed to showcase underfitting and overfitting\")\n",
    "    X, y = data\n",
    "    results = {}\n",
    "for test_size in [0.1, 0.5, 0.9]:\n",
    "    for num_feat in range(1, len(np.unique(y))):\n",
    "        for max_depth in [1, 5, 50]:\n",
    "            acc_train, acc_test = train_dec_tree(X, y, test_size, num_feat, max_depth)\n",
    "\n",
    "        \n",
    "        # For Overfitting\n",
    "        if acc_train - acc_test > 0.3:\n",
    "            print(\"\\n\\n====================================================\")\n",
    "            print(\"\\nWhen the decision tree model was trained with the following params:\")\n",
    "            print(\"  Testing data percent of total:\", test_size)\n",
    "            print(\"  Number of data features used:\", num_feat)\n",
    "            print(\"  Maximum depth of decision tree:\", max_depth)\n",
    "            print(\"The evaluation went as follows:\")\n",
    "            print(\"  Training data accuracy:\", acc_train)\n",
    "            print(\"  Testing data accuracy:\", acc_test)\n",
    "            explain = []\n",
    "          \n",
    "            if test_size > 0.7:\n",
    "                explain.append(\"the training data was too small, meaning the model overfit on the the few patterns it found in the training data\")\n",
    "                if num_feat > 2:\n",
    "                    explain.append(\"too many features were used, making the model too complex\")\n",
    "                  # leading the model to perhaps focus too much on certain features that are not useful for generalizations outside the training data\n",
    "                    if max_depth > 5:\n",
    "                        explain.append(\"the model was too deep, which made it too complex\")\n",
    "\n",
    "                        print(\"This is a case of OVERFITTING because\", \"\\nAND \".join(explain) + \".\")\n",
    "        \n",
    "        # For Underfitting\n",
    "        if acc_test < 0.7 and acc_train < 0.7:\n",
    "            print(\"\\n\\n====================================================\")\n",
    "            print(\"\\nWhen the decision tree model was trained with the following params:\")\n",
    "            print(\"  Testing data percent of total:\", test_size)\n",
    "            print(\"  Number of data features used:\", num_feat)\n",
    "            print(\"  Maximum depth of decision tree:\", max_depth)\n",
    "            print(\"The evaluation went as follows:\")\n",
    "            print(\"  Training data accuracy:\", acc_train)\n",
    "            print(\"  Testing data accuracy:\", acc_test)\n",
    "            explain = []\n",
    "          \n",
    "            if test_size > 0.7:\n",
    "                explain.append(\"the model had too little training data to find generalizable patterns\")\n",
    "                if num_feat < 3:\n",
    "                    explain.append(\"too few features were used to find generalizable patterns\")\n",
    "                    if max_depth < 5:\n",
    "                        explain.append(\"the model was shallow, making it too simple to find the complex patterns in the data\")\n",
    "\n",
    "                        print(\"This is a case of UNDERFITTING because\", \"\\n  AND \".join(explain) + \".\")"
   ]
  },
  {
   "cell_type": "markdown",
   "metadata": {},
   "source": [
    "## Execution examples of overfitting and underfitting with an SVD classifier"
   ]
  },
  {
   "cell_type": "code",
   "execution_count": 17,
   "metadata": {},
   "outputs": [
    {
     "name": "stdout",
     "output_type": "stream",
     "text": [
      "The SVM was trained on the IRIS dataset.\n",
      "Various parameters were changed to showcase underfitting and overfitting\n",
      "\n",
      "When the SVM was trained with the following params:\n",
      "  Testing data percent of total: 0.9\n",
      "  Number of data features used: 2\n",
      "  Maximum iterations when training: 10000\n",
      "The evaluation went as follows:\n",
      "  Training data accuracy: 1.0\n",
      "  Testing data accuracy: 0.42962962962962964\n",
      "The SVM was trained on the WINE dataset.\n",
      "Various parameters were changed to showcase underfitting and overfitting\n"
     ]
    }
   ],
   "source": [
    "import numpy as np\n",
    "from sklearn.svm import SVC\n",
    "from sklearn import datasets # used for the iris data as an example\n",
    "from sklearn.model_selection import train_test_split # used to test models\n",
    "\n",
    "def train_svd(X, y, test_size=0.5, num_features=3, max_iter=-1): \n",
    "  # Train\n",
    "    X_train, X_test, y_train, y_test = train_test_split(X[:,:num_features], y, \n",
    "                                           test_size=test_size, random_state=42)\n",
    "    model = SVC(random_state=42, max_depth=max_depth)\n",
    "    model.fit(X_train, y_train)\n",
    "\n",
    "  # Evaluate\n",
    "    y_pred_train = model.predict(X_train)\n",
    "    y_pred = model.predict(X_test)\n",
    "    return (np.mean(y_pred_train == y_train), np.mean(y_pred == y_test))\n",
    "\n",
    "for dataset in [(\"IRIS\", datasets.load_iris(return_X_y=True)), \n",
    "                (\"WINE\", datasets.load_wine(return_X_y=True))]:\n",
    "    name, data = dataset\n",
    "   # print(\"\\n\\====================================================\")\n",
    "    print(\"The SVM was trained on the {} dataset.\".format(name))\n",
    "    print(\"Various parameters were changed to showcase underfitting and overfitting\")\n",
    "    X, y = data\n",
    "    results = {}\n",
    "    for test_size in [0.1, 0.5, 0.9]:\n",
    "        for num_feat in range(1, len(np.unique(y))):\n",
    "            for max_iters in [1, 50, 10000]:\n",
    "                acc_train, acc_test = train_dec_tree(X, y, test_size, num_feat, max_iters)\n",
    "\n",
    "        \n",
    "        # Overfitting case\n",
    "        if acc_train - acc_test > 0.3:\n",
    "            #print(\"\\n\\n\\n====================================================\")\n",
    "            print(\"\\nWhen the SVM was trained with the following params:\")\n",
    "            print(\"  Testing data percent of total:\", test_size)\n",
    "            print(\"  Number of data features used:\", num_feat)\n",
    "            print(\"  Maximum iterations when training:\", max_iters)\n",
    "            print(\"The evaluation went as follows:\")\n",
    "            print(\"  Training data accuracy:\", acc_train)\n",
    "            print(\"  Testing data accuracy:\", acc_test)\n",
    "            explain = []\n",
    "            if test_size > 0.7:\n",
    "                explain.append(\"the training data was too small, meaning the model overfit on the the few patterns it found in the training data\")\n",
    "                if num_feat > 2:\n",
    "                    explain.append(\"too many features were used, making the model too complex\")\n",
    "                    if max_iters > 40:\n",
    "                        explain.append(\"the model was trained for too long, which made it mostly focus on the patterns in the training data\")\n",
    "\n",
    "                        print(\"This is a case of OVERFITTING because\", \"\\n  AND \".join(explain) + \".\")\n",
    "        \n",
    "        # Underfitting case\n",
    "        if acc_test < 0.6 and acc_train < 0.6:\n",
    "           # print(\"\\n\\n\\n====================================================\")\n",
    "            print(\"\\nWhen the SVM was trained with the following params:\")\n",
    "            print(\"  Testing data percent of total:\", test_size)\n",
    "            print(\"  Number of data features used:\", num_feat)\n",
    "            print(\"  Maximum iterations when training:\", max_iters)\n",
    "            print(\"The evaluation went as follows:\")\n",
    "            print(\"  Training data accuracy:\", acc_train)\n",
    "            print(\"  Testing data accuracy:\", acc_test)\n",
    "            explain = []\n",
    "            if test_size > 0.7:\n",
    "                explain.append(\"the model had too little training data to find generalizable patterns\")\n",
    "                if num_feat < 3:\n",
    "                    explain.append(\"too few features were used to find generalizable patterns\")\n",
    "                    if max_iters < 50:\n",
    "                        explain.append(\"the model was trained for too few iterations\")\n",
    "                        print(\"This is a case of UNDERFITTING because\", \"\\n  AND \".join(explain) + \".\")"
   ]
  },
  {
   "cell_type": "markdown",
   "metadata": {
    "id": "Wri4R6v6F52n"
   },
   "source": [
    "# Question 6\n",
    "(10 points) Show examples when the use of\n",
    "kernel procedure is more efficient in terms of training and\n",
    "prediction computational time w.r.t. polynomial features\n",
    "transformation"
   ]
  },
  {
   "cell_type": "markdown",
   "metadata": {},
   "source": [
    "Kernel methods are more efficient than polynomial feature transformation especially when dealing with high-dimensional data set. Suppose we are dealing with n-dimensional data set such that observations has the form\n",
    "$$x = (x_1, x_2, \\ldots, x_n)$$\n",
    "$$y = (y_1, y_2, \\ldots, y_n)$$\n",
    "and wish to map the inner product of <x, y> to the inner product of transformed versions of them: $<\\phi(x), \\phi(x)>$, so we can measure the similarity of x and y in the new space.\n",
    "\n",
    "If we use the polynomial feature transformation, then we would first need to map $x$ and $y$ into\n",
    "$$\\phi(x) = (x_1^n, x_1^{n-1} x_2, \\ldots, x_n^n)$$\n",
    "$$\\phi(y) = (y_1^n, y_1^{n-1} y_2, \\ldots, y_n^n)$$\n",
    "which requires $2 n^2$ computations to perform, then it would need to compute $<\\phi(x), \\phi(x)>$ which requires another $n^2 + 1$ computations ($n^2$ scalar multiplications and 1 addition).\n",
    "\n",
    "That is, the polynimial feature transformation requires a total of $3n^2$ computations to obtain $<\\phi(x), \\phi(x)>$.\n",
    "\n",
    "On the other hand, kernel methods allows the use to map the data into said higher-dimention without having to actually transform the data first. Let's consider the polynomial kernel, $k(x,y) = (x^T y)^n$ which is equivalent to $<\\phi(x), \\phi(x)>$.\n",
    "\n",
    "To evaluate $k(x,y) = (x^T y)^n$, the polynomial kernel would need to compute\n",
    "$$x^T y = x_1 y_1 + x_2 y_2 + \\cdots + x_n y_n$$\n",
    "which requires $n + 1$ computations to perform (n scalar multiplications and 1 addition). Then the kernel would just need to multiply $x^T y$ n times, which requires 1 computation (since it is just taking a power of a scalar).\n",
    "\n",
    "That is, the polynimial kernel requires a total of $n+2$ computations to obtain $<\\phi(x), \\phi(x)>$ which is much smaller than $3n^2$ of the polynimial feature transformation.\n",
    "\n",
    "We can see the difference between the number of computations required gets much larger as $n$ gets larger."
   ]
  },
  {
   "cell_type": "code",
   "execution_count": 18,
   "metadata": {},
   "outputs": [
    {
     "data": {
      "image/png": "[encoded data removed]",
      "text/plain": [
       "<Figure size 432x288 with 1 Axes>"
      ]
     },
     "metadata": {
      "needs_background": "light"
     },
     "output_type": "display_data"
    }
   ],
   "source": [
    "aa = range(1,101)\n",
    "trans = np.zeros(max(aa))\n",
    "kernel = np.zeros(max(aa))\n",
    "for i in aa:\n",
    "    trans[i-1] = 3*i^2\n",
    "    kernel[i-1] = i+2\n",
    "fig = plt.figure()\n",
    "ax = plt.axes()\n",
    "ax.set(xlabel='Dimension', ylabel='Computations');\n",
    "ax.plot(aa, trans, label = 'Polynomial Feature Transformation');\n",
    "ax.plot(aa, kernel, label = 'Kernel Methd');\n",
    "plt.legend();"
   ]
  },
  {
   "cell_type": "markdown",
   "metadata": {},
   "source": [
    "**Consequently, we can see that the use of kernel procedure is more effective in terms of training and prediction computational time w.r.t. polynomial features transformation when we are dealing with a high dimensional data set.**"
   ]
  },
  {
   "cell_type": "markdown",
   "metadata": {
    "id": "2OtA1JWGGL9C"
   },
   "source": [
    "# Question 7\n",
    "\n",
    "(10 points) Write a procedure to estimate in the SVC\n",
    "classifier (in Scikit) the best kernel (RBF, Polynomial,\n",
    "sigmoid), the best gamma & degree, and the best C. Use the\n",
    "grid search without implement it. Use the following\n",
    "reference:\n",
    "\n",
    "    a. https://scikit-learn.org/stable/modules/generated/sklearn.model_selection.GridSearchCV.html#sklearn.model_selection.GridSearchCV\n",
    "    \n",
    "    b. https://scikit-learn.org/stable/modules/grid_search.html"
   ]
  },
  {
   "cell_type": "code",
   "execution_count": 19,
   "metadata": {},
   "outputs": [
    {
     "name": "stdout",
     "output_type": "stream",
     "text": [
      "\n",
      "The results for the IRIS dataset were the following:\n",
      "The best SVC classifier found was the following:\n",
      "SVC(C=0.001, gamma=0.3333333333333333, kernel='poly')\n",
      "The best parameters found were the following:\n",
      "   {'C': 0.001, 'degree': 3, 'gamma': 0.3333333333333333, 'kernel': 'poly'}\n",
      "This classifier resulted in the best accuracy of 98.666667%\n"
     ]
    }
   ],
   "source": [
    "import numpy as np\n",
    "from sklearn.svm import SVC\n",
    "from sklearn.model_selection import GridSearchCV\n",
    "from sklearn import datasets \n",
    "\n",
    "dataset = datasets.load_iris(return_X_y=True)\n",
    "for dataset in [(\"IRIS\", datasets.load_iris(return_X_y=True))]: \n",
    "  # use this line to try a different dataset:\n",
    "  #(\"BREAST CANCER\", datasets.load_breast_cancer(return_X_y=True))]:\n",
    "\n",
    "    name, data = dataset\n",
    "    print(\"\\nThe results for the\", name, \"dataset were the following:\")\n",
    "    X, y = data\n",
    "    parameters = {'kernel': ['rbf', 'poly', 'sigmoid'],\n",
    "                'gamma':  ['scale', 'auto'] + np.linspace(0,1,10).tolist(),\n",
    "                'degree': list(range(1, 5)),\n",
    "                'C': np.linspace(0.001,100,20).tolist()}\n",
    "    grid_searcher = GridSearchCV(SVC(), parameters, n_jobs=20)\n",
    "    grid_searcher.fit(X, y)\n",
    "    SVC_best = grid_searcher.best_estimator_\n",
    "\n",
    "    print(\"The best SVC classifier found was the following:\")\n",
    "    print(SVC_best)\n",
    "    print(\"The best parameters found were the following:\\n  \", grid_searcher.best_params_)\n",
    "    print(\"This classifier resulted in the best accuracy of {:5f}%\".format(grid_searcher.best_score_ * 100))"
   ]
  },
  {
   "cell_type": "markdown",
   "metadata": {
    "id": "WLFt2gbhGXqD"
   },
   "source": [
    " # Question 8\n",
    " (20 points) Create examples to explain the property and the\n",
    "importance of the following kernels:\n",
    "    \n",
    "    a. https://en.wikipedia.org/wiki/Graph_kernel\n",
    "    \n",
    "    b. https://en.wikipedia.org/wiki/String_kernel\n",
    "\n",
    "    c. https://scikit-learn.org/stable/modules/generated/sklearn.metrics.pairwise.sigmoid_kernel.html"
   ]
  },
  {
   "cell_type": "markdown",
   "metadata": {},
   "source": [
    "## Graph Kernel\n",
    " \n",
    "Graph kernels are used to measure the similarities between two graphs. Suppose that $G_1$ and $G_2$ are graphs and $P$ is their cartesian product graph. Then the geometric random walk kernel (which is one of graph kernel methods) is defined as\n",
    "\n",
    "$$K^\\infty_X (G_1, G_2) = e^T (I - \\lambda A(P))^{-1} e$$\n",
    "\n",
    "where $A(P)$ is the adjacency matrix of $P$ $I$ is the identity matrix, $e$ is the all-ones vector, and $\\lambda$ is a positive, real-valued weight. The geometric random walk kernel converges only if $\\lambda < 1/\\lambda_X$ where $\\lambda_X$ is the largest eigenvalue of $A(P)$."
   ]
  },
  {
   "cell_type": "code",
   "execution_count": 20,
   "metadata": {},
   "outputs": [
    {
     "name": "stdout",
     "output_type": "stream",
     "text": [
      "Nodes of graph: \n",
      "['1', '2', '3', '4']\n",
      "Edges of graph: \n",
      "[('1', '2'), ('1', '3'), ('2', '4')]\n"
     ]
    },
    {
     "data": {
      "image/png": "[encoded data removed]",
      "text/plain": [
       "<Figure size 432x288 with 1 Axes>"
      ]
     },
     "metadata": {},
     "output_type": "display_data"
    }
   ],
   "source": [
    "import networkx as nx\n",
    "M1=nx.Graph()\n",
    "M1.add_nodes_from([\"1\",\"2\",\"3\", \"4\"])\n",
    "M1.add_edges_from([(\"1\",\"2\"),(\"1\",\"3\"), (\"2\",\"4\")])\n",
    "print(\"Nodes of graph: \")\n",
    "\n",
    "print(M1.nodes())\n",
    "print(\"Edges of graph: \")\n",
    "print(M1.edges())\n",
    "#M1.color_map(\"red\")\n",
    "nx.draw(M1,with_labels=True,font_weight='bold' )"
   ]
  },
  {
   "cell_type": "code",
   "execution_count": 21,
   "metadata": {},
   "outputs": [
    {
     "name": "stdout",
     "output_type": "stream",
     "text": [
      "Nodes of graph: \n",
      "['1', '2', '3', '4']\n",
      "Edges of graph: \n",
      "[('1', '2'), ('1', '3'), ('1', '4'), ('2', '3'), ('2', '4'), ('3', '4')]\n"
     ]
    },
    {
     "data": {
      "image/png": "[encoded data removed]",
      "text/plain": [
       "<Figure size 432x288 with 1 Axes>"
      ]
     },
     "metadata": {},
     "output_type": "display_data"
    }
   ],
   "source": [
    "M2=nx.Graph()\n",
    "M2.add_nodes_from([\"1\",\"2\",\"3\",\"4\"])\n",
    "M2.add_edges_from([(\"1\",\"2\"),(\"1\",\"3\"), (\"1\", \"4\"), (\"2\",\"3\"), (\"2\", \"4\"), (\"3\", \"4\")])\n",
    "print(\"Nodes of graph: \")\n",
    "print(M2.nodes())\n",
    "print(\"Edges of graph: \")\n",
    "print(M2.edges())\n",
    "nx.draw(M2,with_labels=True,font_weight='bold')"
   ]
  },
  {
   "cell_type": "markdown",
   "metadata": {},
   "source": [
    "We obtain the product graph of M1 and M2, denoted P."
   ]
  },
  {
   "cell_type": "code",
   "execution_count": 22,
   "metadata": {},
   "outputs": [
    {
     "data": {
      "image/png": "[encoded data removed]",
      "text/plain": [
       "<Figure size 432x288 with 1 Axes>"
      ]
     },
     "metadata": {},
     "output_type": "display_data"
    }
   ],
   "source": [
    "P = nx.cartesian_product(M1,M2)\n",
    "nx.draw(P,with_labels=True,font_weight='bold')"
   ]
  },
  {
   "cell_type": "markdown",
   "metadata": {},
   "source": [
    "We find the reciprocal of the largest eigenvalue of the adjacency matrix of  P ."
   ]
  },
  {
   "cell_type": "code",
   "execution_count": 23,
   "metadata": {},
   "outputs": [
    {
     "data": {
      "text/plain": [
       "(0.2165423646591007+0j)"
      ]
     },
     "execution_count": 23,
     "metadata": {},
     "output_type": "execute_result"
    }
   ],
   "source": [
    "# Obtain the adjacency matrix of P\n",
    "mp = nx.adjacency_matrix(P)\n",
    "mp = mp.todense()\n",
    "# Find the eigenvalue of A(P)\n",
    "evalue, evector = np.linalg.eig(mp)\n",
    "1/max(evalue)"
   ]
  },
  {
   "cell_type": "markdown",
   "metadata": {},
   "source": [
    "We choose  λ  as 0.2 and calculate the geometric random walk kernel."
   ]
  },
  {
   "cell_type": "code",
   "execution_count": 24,
   "metadata": {},
   "outputs": [
    {
     "data": {
      "text/plain": [
       "matrix([[200.]])"
      ]
     },
     "execution_count": 24,
     "metadata": {},
     "output_type": "execute_result"
    }
   ],
   "source": [
    "lmda = 0.2\n",
    "e = np.ones(len(mp))\n",
    "I = np.identity(len(mp))\n",
    "np.matmul(np.matmul(e.T,np.linalg.inv(I - lmda*mp)),e)"
   ]
  },
  {
   "cell_type": "markdown",
   "metadata": {},
   "source": [
    "We get 200 as the geometric random walk kernel of M1 and M2."
   ]
  },
  {
   "cell_type": "markdown",
   "metadata": {},
   "source": [
    "To compare, we calculate the geometric random walk kernel of M1 and M1. We expect it to be much smaller than that for M1 and M2.\n",
    "We obtain the product graph of M1 and M1, denoted P1."
   ]
  },
  {
   "cell_type": "code",
   "execution_count": 25,
   "metadata": {},
   "outputs": [
    {
     "data": {
      "text/plain": [
       "0.3090169943749482"
      ]
     },
     "execution_count": 25,
     "metadata": {},
     "output_type": "execute_result"
    }
   ],
   "source": [
    "P1 = nx.cartesian_product(M1,M1)\n",
    "# Obtain the adjacency matrix of P\n",
    "mp1 = nx.adjacency_matrix(P1)\n",
    "mp1 = mp1.todense()\n",
    "# Find the eigenvalue of A(P)\n",
    "evalue1, evector1 = np.linalg.eig(mp1)\n",
    "1/max(evalue1)"
   ]
  },
  {
   "cell_type": "markdown",
   "metadata": {},
   "source": [
    "We choose  λ  as 0.2 and calculate the geometric random walk kernel."
   ]
  },
  {
   "cell_type": "code",
   "execution_count": 26,
   "metadata": {},
   "outputs": [
    {
     "data": {
      "text/plain": [
       "matrix([[42.72727273]])"
      ]
     },
     "execution_count": 26,
     "metadata": {},
     "output_type": "execute_result"
    }
   ],
   "source": [
    "lamda = 0.2\n",
    "a = np.ones(len(mp1))\n",
    "c = np.identity(len(mp1))\n",
    "np.matmul(np.matmul(e.T,np.linalg.inv(I - lmda*mp1)),e)"
   ]
  },
  {
   "cell_type": "markdown",
   "metadata": {},
   "source": [
    "We got 42.72727273 as the geometric random walk kernel of M1 and M1, which is much smaller than the one for M1 and M2, as expected.\n",
    "This has demonstrated that the geometric random walk kernel measures the similarity between two graphs,which is pretty cool cause it is ordinarily difficult to measure the similarity between two graphs\n",
    "\n"
   ]
  },
  {
   "cell_type": "markdown",
   "metadata": {},
   "source": [
    "### String Kernel\n",
    "\n",
    "The string kernel is a type of kernel that calculates a kind of distance metric between strings such that this distance can be used for classification by a model like the SVM. For example, the String Subsequence Kernel (SSK) \"maps strings to a feature vector indexed by all k tuples of characters. A k-tuple will have a non-zero entry if it occurs as a subsequence anywhere (not necessarily contiguously) in the string\" [4]. The SSK can is primarily used in bioinformatics applications where data is stored as strings, but the kernel could in theory be used on any kind of string, such as natural language. The SSK allows us to train SVM classifiers on strings (or text) without having to engineer the features ourselves. \n",
    "<!-- \n",
    "As described in [4] and summarized by wikipedia, the SSK is formulated as follows:\n",
    "$\\varphi :\n",
    "    \\alpha(x)=\\left\\{\n",
    "                \\begin{array}{ll}\n",
    "                  \\Sigma^n \\rightarrow \\mathbb{R}^{\\Sigma^n}\\\\\n",
    "                  \\frac{1}{1+e^{-kx}}\n",
    "                \\end{array}\n",
    "              \\right.\n",
    "$ -->\n",
    "\n",
    "For example, if I have the RNA sequence for several different viruses, I can represent this data as a string composed of 'A's, 'C's, 'G's, and 'U's [5](https://en.wikipedia.org/wiki/RNA#Structure). I can then use the SSK with an SVM classifier to try to classify the virus RNA sequence as \"deadly\" or \"not deadly\" by looking at the death count of the viruses. If, for example, more than 1,000 people were killed, I would label the RNA sequence as \"deadly\". By using subsequences (k-tuples) of the string, the SSK may be able to find useful patterns in the RNA sequences that show how certain groupings of nucleotides might lead to a virus being dangerous. If a new virus appears, I could in theory sequence the RNA of the new virus and give it to my SVM classifier to determine if the virus might be dangerous.\n",
    "\n",
    "Assuming we want to compare some text passages automatically and indicate their relative similarity. For many applications, it might be sufficient to find some keywords which match exactly. One example where exact matching is not always enough is found in spam detection. An alternate way would be in computational gene analysis, where homologous genes have mutated, resulting in common subsequences along with deleted, inserted or replaced symbols.[10](https://en.wikipedia.org/wiki/String_kernel)\n",
    "\n",
    "\n",
    "\n",
    "Without a string kernel, an SVM may have a difficult (if not impossible) time finding relevant patterns in large strings. Instead, I may need to engineer the features I give to the SVD by counting hard-coded sequences that I would have to figure out myself. By finding patterns in strings that provide a sort of similarity or distance between strings, string kernels such as SSK are extremely useful for processing this kind of string data. \n",
    "\n",
    "To implement the SSK kernel, I would recommend using the [6](https://github.com/helq/python-ssk) library.\n",
    "\n",
    "\n",
    "\n",
    "Here is a mathematical example for the SSK as defined by [4](http://jmlr.csail.mit.edu/papers/volume2/lodhi02a/lodhi02a.pdf). They define the SSK as follows:\n",
    "\n",
    "$K_n(s,t) = \\Sigma_{u\\in\\Sigma^n} \\Sigma_{i:u=s[i]} \\Sigma_{j:u=t[j]} \\lambda^{l(i) + l(j)}$\n",
    "\n",
    "Let $s = cat$ and $t = hat$, and use a k-tuples where $k = n = 2$. Let the decay factor $\\lambda = 0.5$.\n",
    "\n",
    "Therefore, $\\Sigma_n = \\begin{bmatrix} ab & hk & ad & et & ot \\end{bmatrix}$ (all of the continuous and non-continuous finite tuples in the strings)\n",
    "\n",
    "We can then count how often the tuples occur in each string, where the second column is string $s$ and the third column is string $t$:\n",
    "\n",
    "$\\begin{bmatrix} ab & 1 & 0\n",
    "              \\\\ hk & 0 & 1\n",
    "              \\\\ ad & 1 & 1\n",
    "              \\\\ et & 1 & 0\n",
    "              \\\\ ot & 0 & 1 \\end{bmatrix}$\n",
    "\n",
    "We can finally sum all of the terms in $\\Sigma_{u\\in\\Sigma^n} \\Sigma_{i:u=s[i]} \\Sigma_{j:u=t[j]} \\lambda^{l(i) + l(j)}$. Since only one tuple occurs in both $s$ and $t$, $K_2(cat,hat) = \\lambda^{l(at) + l(at)} = 0.5^{2 + 2} = 0.25$\n",
    "\n",
    "\n",
    "\n"
   ]
  },
  {
   "cell_type": "markdown",
   "metadata": {},
   "source": [
    "## The Sigmoid Kernel"
   ]
  },
  {
   "cell_type": "markdown",
   "metadata": {},
   "source": [
    "The sigmoid kernel is a type of kernel that models an activation function in traditional neural networks. It produces a distance between two vectors by applying a non-linear function to the dot product of the two vectors. It is defined mathematically as follows ([8](https://scikit-learn.org/stable/modules/metrics.html#sigmoid-kernel)):\n",
    "\n",
    "$k(x,y) = tanh(\\gamma x^Ty + c_0)$\n",
    "\n",
    "where $x$ and $y$ are the input vectors, $\\gamma$ is a hyperparameter known as the slope, and $c_0$ is a hyperparameter known as the intercept. The $\\gamma$ value can be seen as a \"scaling parameter\" of the input, while the $c_0$ can be seen as a \"shifting parameter\" of the input ([7](https://www.csie.ntu.edu.tw/~cjlin/papers/tanh.pdf))\n",
    "\n",
    "Although the sigmoid kernel can behave like the RBF kernel when the $\\gamma$ is close to zero and $c_0$ is less than 0 ([7](https://www.csie.ntu.edu.tw/~cjlin/papers/tanh.pdf)), an advantage of using the sigmoid kernel is that an SVM that uses a sigmoid kernel is similar to a neural network containing two layers ([9](http://crsouza.com/2010/03/17/kernel-functions-for-machine-learning-applications/#sigmoid)). However, [7](https://www.csie.ntu.edu.tw/~cjlin/papers/tanh.pdf) show that the sigmoid kernel is not better than an RBF kernel in most cases, as the sigmoid kernel is only conditionally positive definite and not always a valid kernel when certain parameters are used. \n",
    "\n",
    "In their paper, [7](https://www.csie.ntu.edu.tw/~cjlin/papers/tanh.pdf) do not recommend the use of a sigmoid kernel over an RBF kernel. They summarize their reasons on page 26: \"The sigmoid kernel seems to work well in practice, but it is not better than RBF. As RBF has properties of being PD [positive definite] and having fewer parameters, somehow there is no strong reason to use the sigmoid [kernel]\".\n",
    "\n",
    "Although the sigmoid kernel was popularized because of its origin from neural network activation functions which share a similar formulation, it is important to consider the sigmoid kernel for the properties it truly holds. As Lin et al. show, it is unlikely that you will ever need to use the sigmoid kernel in place of the RBF kernel. \n",
    "\n",
    "\n",
    "\n",
    "Here is an easy mathematical example:\n",
    "\n",
    "Let $x = \\begin{bmatrix} 1\\\\0 \\end{bmatrix}$ and let $y = \\begin{bmatrix} 0\\\\1 \\end{bmatrix}$. Let $\\gamma = 0.1$ and let $c_0 = 1$.\n",
    "\n",
    "Then $k(x,y) = tanh(\\gamma x^Ty + c_0) = tanh(0.1 \\begin{bmatrix} 1&&0 \\end{bmatrix} \\begin{bmatrix} 0\\\\1 \\end{bmatrix} -1) = tanh(-1) = -0.7615942$"
   ]
  },
  {
   "cell_type": "markdown",
   "metadata": {},
   "source": [
    "## References\n",
    "[1] https://machinelearningmastery.com/overfitting-and-underfitting-with-machine-learning-algorithms/\n",
    "[2]https://en.wikipedia.org/wiki/Graph_kernel\n",
    "[3]http://www.cs.cmu.edu/~ukang/papers/fast_rwgk.pdf\n",
    "[4]https://jmlr.csail.mit.edu/papers/volume2/lodhi02a/lodhi02a.pdf\n",
    "[5]https://en.wikipedia.org/wiki/RNA#Structure\n",
    "[6]https://github.com/helq/python-ssk\n",
    "[7]https://www.csie.ntu.edu.tw/~cjlin/papers/tanh.pdf))\n",
    "[8]https://scikit-learn.org/stable/modules/metrics.html#sigmoid-kernel)):\n",
    "[9](http://crsouza.com/2010/03/17/kernel-functions-for-machine-learning-applications/#sigmoid)\n",
    "[10]https://en.wikipedia.org/wiki/String_kernel\n",
    "\n",
    "\n",
    "\n"
   ]
  },
  {
   "cell_type": "code",
   "execution_count": null,
   "metadata": {},
   "outputs": [],
   "source": []
  }
 ],
 "metadata": {
  "colab": {
   "collapsed_sections": [],
   "name": "MidtermExam.ipynb",
   "provenance": []
  },
  "kernelspec": {
   "display_name": "Python 3 (ipykernel)",
   "language": "python",
   "name": "python3"
  },
  "language_info": {
   "codemirror_mode": {
    "name": "ipython",
    "version": 3
   },
   "file_extension": ".py",
   "mimetype": "text/x-python",
   "name": "python",
   "nbconvert_exporter": "python",
   "pygments_lexer": "ipython3",
   "version": "3.8.8"
  }
 },
 "nbformat": 4,
 "nbformat_minor": 1
}
